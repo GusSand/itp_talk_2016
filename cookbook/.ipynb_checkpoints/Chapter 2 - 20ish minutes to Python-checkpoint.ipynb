{
 "cells": [
  {
   "cell_type": "markdown",
   "metadata": {},
   "source": [
    "# Python Essentials\n",
    "\n",
    "This guide is not intended to be an exhastive introduction to the Python language but rather a biased, no-frills overview of features used frequently in Data Analysis. For new Python programmers, I recommend that you supplement this guide with official Python tutotial (http://docs.python.org) and potentially some of the other online guides  such as Learning Python the hard way. (http://learnpythonthehardway.org/book/) \n",
    "\n",
    "\n",
    "\n",
    "## Python Interpreter\n",
    "\n",
    "Python is an interpreted language.  \n",
    "The Python interpreter runs a program by executing one statement at a time. \n",
    "It can be invoked on the command line using the python command. \n",
    "\n",
    "$python\n",
    "\n",
    "Python 2.7.10 |Anaconda 1.8.0 (x86_64)| (default, Oct 19 2015, 18:31:17)\n",
    "[GCC 4.2.1 (Apple Inc. build 5577)] on darwin\n",
    "Type \"help\", \"copyright\", \"credits\" or \"license\" for more information.\n",
    "Anaconda is brought to you by Continuum Analytics.\n",
    "Please check out: http://continuum.io/thanks and https://anaconda.org\n",
    "\n",
    "\n",
    "The >>> you see is the prompt where you'll type expressions.  To exit and return to the command prompt, you can either type exit() or press Ctrl-D\n",
    "\n",
    "Once you are on the interpreter you can type code like:\n",
    "\n"
   ]
  },
  {
   "cell_type": "code",
   "execution_count": 2,
   "metadata": {
    "collapsed": false
   },
   "outputs": [
    {
     "name": "stdout",
     "output_type": "stream",
     "text": [
      "Hello World\n"
     ]
    }
   ],
   "source": [
    "print 'Hello World'"
   ]
  },
  {
   "cell_type": "markdown",
   "metadata": {},
   "source": [
    "## The Basics\n",
    "\n",
    "### Language Semantics\n",
    "\n",
    "The Python language has an emphasis on readability, simplicity and explicitness. Some people go so far as to liken it to \"executable pseudocode\". \n",
    "\n",
    "### Indentation, Not Braces or semicolons\n",
    "\n",
    "Python uses whitespace (tabs or spaces) to structure code instead of using braces and in many other languages like C, C++, and Java.  Take for example a for loop:\n",
    "\n",
    "\n",
    "``\n",
    "for x in array:\n",
    "    if x < 0:\n",
    "        print 'negative number'\n",
    "    else\n",
    "        \n",
    "``\n",
    "\n",
    "A colon denotes the start of an indented code block after which all of the code must be indented by the same amount until the end of the block. In another language, you might instead have something like:\n",
    "\n",
    "``\n",
    "for x in array {\n",
    "        if x < pivot {\n",
    "            less.append(x)\n",
    "        } else {\n",
    "            greater.append(x)\n",
    "        }\n",
    "    }\n",
    "``\n",
    "\n",
    "### Comments\n",
    "\n",
    "Text preceded by the hash mark (pound sign)# is ignored by the Python interpreter. \n",
    "This is often used to add comments to code. \n",
    "\n",
    "``\n",
    "results = []\n",
    "for line in file_handle:\n",
    "    # append lines to the results\n",
    "    results.append(line)\n",
    "``\n",
    "\n",
    "\n",
    "### Functions and object method calls\n",
    "\n",
    "Functions are called using parentheses and passing zero or more arguments, optionally assigning the returned value to a variable:\n",
    "\n",
    "``\n",
    "result = do_something_cool(x, y, z)\n",
    "g()\n",
    "``\n",
    "\n",
    "\n",
    "### Everything is an object\n",
    "\n",
    "One important characteristic of the Python language is the consistency of its object model.  Everything is an object\n",
    "\n"
   ]
  },
  {
   "cell_type": "code",
   "execution_count": null,
   "metadata": {
    "collapsed": true
   },
   "outputs": [],
   "source": []
  }
 ],
 "metadata": {
  "kernelspec": {
   "display_name": "Python 2",
   "language": "python",
   "name": "python2"
  },
  "language_info": {
   "codemirror_mode": {
    "name": "ipython",
    "version": 2
   },
   "file_extension": ".py",
   "mimetype": "text/x-python",
   "name": "python",
   "nbconvert_exporter": "python",
   "pygments_lexer": "ipython2",
   "version": "2.7.11"
  }
 },
 "nbformat": 4,
 "nbformat_minor": 0
}
