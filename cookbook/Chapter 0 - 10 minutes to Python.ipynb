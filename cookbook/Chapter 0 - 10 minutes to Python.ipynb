{
 "cells": [
  {
   "cell_type": "markdown",
   "metadata": {},
   "source": [
    "# Python Essentials\n",
    "\n",
    "This guide is not intended to be an exhastive introduction to the Python language but rather a biased, no-frills overview of features used frequently in Data Analysis. For new Python programmers, I recommend that you supplement this guide with official Python tutotial (http://docs.python.org) and potentially some of the other online guides  such as Learning Python the hard way. (http://learnpythonthehardway.org/book/) \n",
    "\n",
    "## Python Interpreter\n",
    "\n",
    "Python is an interpreted language.  \n",
    "The Python interpreter runs a program by executing one statement at a time. \n",
    "It can be invoked on the command line using the python command. \n",
    "\n",
    "$python\n",
    "\n",
    "Python 2.7.10 |Anaconda 1.8.0 (x86_64)| (default, Oct 19 2015, 18:31:17)\n",
    "[GCC 4.2.1 (Apple Inc. build 5577)] on darwin\n",
    "Type \"help\", \"copyright\", \"credits\" or \"license\" for more information.\n",
    "Anaconda is brought to you by Continuum Analytics.\n",
    "Please check out: http://continuum.io/thanks and https://anaconda.org\n",
    "\n",
    "\n",
    "The >>> you see is the prompt where you'll type expressions.  To exit and return to the command prompt, you can either type exit() or press Ctrl-D\n",
    "\n",
    "Once you are on the interpreter you can type code like:\n",
    "\n"
   ]
  },
  {
   "cell_type": "code",
   "execution_count": null,
   "metadata": {
    "collapsed": true
   },
   "outputs": [],
   "source": []
  }
 ],
 "metadata": {
  "kernelspec": {
   "display_name": "Python 2",
   "language": "python",
   "name": "python2"
  },
  "language_info": {
   "codemirror_mode": {
    "name": "ipython",
    "version": 2
   },
   "file_extension": ".py",
   "mimetype": "text/x-python",
   "name": "python",
   "nbconvert_exporter": "python",
   "pygments_lexer": "ipython2",
   "version": "2.7.11"
  }
 },
 "nbformat": 4,
 "nbformat_minor": 0
}
