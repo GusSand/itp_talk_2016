{
 "cells": [
  {
   "cell_type": "code",
   "execution_count": 1,
   "metadata": {
    "collapsed": false
   },
   "outputs": [
    {
     "name": "stderr",
     "output_type": "stream",
     "text": [
      "/Users/gussand/anaconda/lib/python2.7/site-packages/IPython/core/interactiveshell.py:3066: FutureWarning: \n",
      "mpl_style had been deprecated and will be removed in a future version.\n",
      "Use `matplotlib.pyplot.style.use` instead.\n",
      "\n",
      "  exec(code_obj, self.user_global_ns, self.user_ns)\n"
     ]
    }
   ],
   "source": [
    "# usual preamble. Ignore for now...\n",
    "\n",
    "%matplotlib inline\n",
    "import pandas as pd\n",
    "import matplotlib.pyplot as plt\n",
    "import numpy as np\n",
    "\n",
    "# Make the graphs a bit prettier, and bigger\n",
    "pd.set_option('display.mpl_style', 'default')\n",
    "plt.rcParams['figure.figsize'] = (15, 5)\n",
    "\n",
    "\n",
    "# This is necessary to show lots of columns in pandas 0.12. \n",
    "# Not necessary in pandas 0.13.\n",
    "pd.set_option('display.width', 5000) \n",
    "pd.set_option('display.max_columns', 60)\n",
    "\n",
    "# As an aside if you want to see your pandas version ucomment the following:\n",
    "# pd.__version__\n",
    "# I have version 0.18 now"
   ]
  },
  {
   "cell_type": "markdown",
   "metadata": {},
   "source": [
    "# MovieLens 1M Data Set\n",
    "\n",
    "GroupLens Research (http://www.grouplens.org/node/73) provides a number of collections of movie ratings data collected from users of MovieLens in the late 1990s and early 2000s.\n",
    "\n",
    "The data provides movie ratings, movie metadata(genres and year) and demographic data about the users (age, zip code, gender and occupation).  This data is often of interest in the development of recommendation systems based on machine learning algorithms (Netflix anyone). \n",
    "\n",
    "This data set contains 1 million ratings collected from 6000 users on 4000 movies. \n",
    "It's spread across 3 tables: ratings, user information and movie information.  \n",
    "After extracting the data from the zip file, each table can be loaded into a pandas DataFrame object using **pandas.read_table**. \n",
    "We will be using read_table because it's not a CSV file\n",
    "\n",
    "Note:\n",
    "you can always look at the file in the command line using head filename"
   ]
  },
  {
   "cell_type": "code",
   "execution_count": null,
   "metadata": {
    "collapsed": true
   },
   "outputs": [],
   "source": [
    "# In this case I know that the files don't have column names so I will create them using a list\n",
    "\n",
    "unames = ['user_id', 'gender', 'age', 'occupdation', 'zip']\n",
    "users = pd.read_table('../data/ml-1m/users.dat', sep='::', header=None, names=unames)"
   ]
  }
 ],
 "metadata": {
  "kernelspec": {
   "display_name": "Python 2",
   "language": "python",
   "name": "python2"
  },
  "language_info": {
   "codemirror_mode": {
    "name": "ipython",
    "version": 2
   },
   "file_extension": ".py",
   "mimetype": "text/x-python",
   "name": "python",
   "nbconvert_exporter": "python",
   "pygments_lexer": "ipython2",
   "version": "2.7.11"
  }
 },
 "nbformat": 4,
 "nbformat_minor": 0
}
