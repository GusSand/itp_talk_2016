{
 "cells": [
  {
   "cell_type": "markdown",
   "metadata": {},
   "source": [
    "# Python Essentials\n",
    "\n",
    "This guide is not intended to be an exhastive introduction to the Python language but rather a biased, no-frills overview of features used frequently in Data Analysis. For new Python programmers, I recommend that you supplement this guide with official Python tutotial (http://docs.python.org) and potentially some of the other online guides  such as Learning Python the hard way. (http://learnpythonthehardway.org/book/) \n",
    "\n",
    "\n",
    "\n",
    "## Python Interpreter\n",
    "\n",
    "Python is an interpreted language.  \n",
    "The Python interpreter runs a program by executing one statement at a time. \n",
    "It can be invoked on the command line using the python command. \n",
    "\n",
    "The Python language has an emphasis on readability, simplicity and explicitness. Some people go so far as to liken it to \"executable pseudocode\". \n",
    "\n",
    "\n",
    "$python\n",
    "\n",
    "Python 2.7.10 |Anaconda 1.8.0 (x86_64)| (default, Oct 19 2015, 18:31:17)\n",
    "[GCC 4.2.1 (Apple Inc. build 5577)] on darwin\n",
    "Type \"help\", \"copyright\", \"credits\" or \"license\" for more information.\n",
    "Anaconda is brought to you by Continuum Analytics.\n",
    "Please check out: http://continuum.io/thanks and https://anaconda.org\n",
    "\n",
    "\n",
    "The >>> you see is the prompt where you'll type expressions.  To exit and return to the command prompt, you can either type exit() or press Ctrl-D\n",
    "\n",
    "Once you are on the interpreter you can type code like we did :\n",
    "\n",
    "## The Basics\n"
   ]
  },
  {
   "cell_type": "code",
   "execution_count": 26,
   "metadata": {
    "collapsed": false
   },
   "outputs": [
    {
     "name": "stdout",
     "output_type": "stream",
     "text": [
      "Hello World\n"
     ]
    }
   ],
   "source": [
    "print 'Hello World'"
   ]
  },
  {
   "cell_type": "code",
   "execution_count": 27,
   "metadata": {
    "collapsed": false
   },
   "outputs": [
    {
     "name": "stdout",
     "output_type": "stream",
     "text": [
      "I will now count my chickens:\n",
      "Hens 30\n"
     ]
    }
   ],
   "source": [
    "print \"I will now count my chickens:\"\n",
    "\n",
    "print \"Hens\", 25 + 30 / 6"
   ]
  },
  {
   "cell_type": "markdown",
   "metadata": {},
   "source": [
    "### Variables and names\n",
    "\n",
    "Now we can print things and do math. Let's look at variables.  In programming a variable is a nmae for something, similar to how my name Gustavo is the name for the \"Human who wrote this book\".  Programmers use variable names to make our code read more like English and because we have bad memories. "
   ]
  },
  {
   "cell_type": "code",
   "execution_count": 28,
   "metadata": {
    "collapsed": false
   },
   "outputs": [
    {
     "name": "stdout",
     "output_type": "stream",
     "text": [
      "there are  100 cars available\n"
     ]
    }
   ],
   "source": [
    "cars = 100\n",
    "print \"there are \", cars, \"cars available\""
   ]
  },
  {
   "cell_type": "markdown",
   "metadata": {},
   "source": [
    "\n",
    "\n",
    "### Indentation, Not Braces or semicolons\n",
    "\n",
    "Python uses whitespace (tabs or spaces) to structure code instead of using braces and in many other languages like C, C++, and Java.  Take for example a for loop:\n",
    "\n",
    "\n",
    "``\n",
    "\n",
    "for x in array:\n",
    "    if x < 0:\n",
    "        print 'negative number'\n",
    "    else\n",
    "        \n",
    "``\n",
    "\n",
    "A colon denotes the start of an indented code block after which all of the code must be indented by the same amount until the end of the block. In another language, you might instead have something like:\n",
    "\n",
    "``\n",
    "for x in array {\n",
    "        if x < pivot {\n",
    "            less.append(x)\n",
    "        } else {\n",
    "            greater.append(x)\n",
    "        }\n",
    "    }\n",
    "``\n",
    "\n",
    "### Comments\n",
    "\n",
    "Text preceded by the hash mark (pound sign)# is ignored by the Python interpreter. \n",
    "This is often used to add comments to code. \n",
    "\n",
    "``\n",
    "results = []\n",
    "for line in file_handle:\n",
    "    # append lines to the results\n",
    "    results.append(line)\n",
    "``\n",
    "\n",
    "\n",
    "### Functions and object method calls\n",
    "\n",
    "Functions do 3 things:\n",
    "1. Name pieces of code they way variables name strings and numbers\n",
    "2. They take arguments\n",
    "3. Using 1 and 2 they let you make your own \"mini scripts\"\n",
    "\n",
    "Functions are called using parentheses and passing zero or more arguments, optionally assigning the returned value to a variable:\n",
    "\n",
    "Example:\n",
    "\n",
    "\n"
   ]
  },
  {
   "cell_type": "code",
   "execution_count": 7,
   "metadata": {
    "collapsed": false
   },
   "outputs": [
    {
     "name": "stdout",
     "output_type": "stream",
     "text": [
      "Multiplying 3 * 4\n"
     ]
    },
    {
     "data": {
      "text/plain": [
       "12"
      ]
     },
     "execution_count": 7,
     "metadata": {},
     "output_type": "execute_result"
    }
   ],
   "source": [
    "def multiply(a, b):\n",
    "    print 'Multiplying %d * %d' % (a, b)\n",
    "    return a *b\n",
    "\n",
    "multiply(3, 4)"
   ]
  },
  {
   "cell_type": "code",
   "execution_count": null,
   "metadata": {
    "collapsed": true
   },
   "outputs": [],
   "source": [
    "def multiply(a, b):\n",
    "    print 'Multiplying %d * %d' % (a,b)\n",
    "    return a * b"
   ]
  },
  {
   "cell_type": "code",
   "execution_count": 9,
   "metadata": {
    "collapsed": false
   },
   "outputs": [
    {
     "name": "stdout",
     "output_type": "stream",
     "text": [
      "Multiplying 5 * 5\n"
     ]
    }
   ],
   "source": [
    "result = multiply (5, 5)"
   ]
  },
  {
   "cell_type": "code",
   "execution_count": 10,
   "metadata": {
    "collapsed": false
   },
   "outputs": [
    {
     "name": "stdout",
     "output_type": "stream",
     "text": [
      "25\n"
     ]
    }
   ],
   "source": [
    "print result"
   ]
  },
  {
   "cell_type": "markdown",
   "metadata": {},
   "source": [
    "## Imports\n",
    "\n",
    "\n",
    "In Python a module is simply a .py file containing function and variable definitions along with such things imported from other .py files. Suppose that we had the following module:\n",
    "\n",
    "``\n",
    "    #some_module.py\n",
    "    PI = 3.14159\n",
    "\n",
    "    def f(x):\n",
    "        return x + 2\n",
    "\n",
    "    def g(a, b):\n",
    "        return a + b\n",
    "``\n",
    "\n",
    "If we wanted to access the variables and functions defined in some_module.py, from another file in the same directory we could do:\n",
    "\n",
    "``\n",
    "    import some_module\n",
    "    result = some_module.f(5)\n",
    "    pi = some_module.PI\n",
    "``\n"
   ]
  },
  {
   "cell_type": "markdown",
   "metadata": {},
   "source": [
    "## Data Types\n",
    "\n",
    "Python has a small set of built-in types for handling numerical data, strings, boolean (True or False) values, and dates and time. Won't bore you with the details you can look them up.\n",
    "\n",
    "\n",
    "## Most common Data Structures\n",
    "\n",
    "\n",
    "## List\n",
    "\n",
    "Is a one dimensional sequence of Python objects. They are variable length and can be defined usins square brackets[] or using the list type function. \n",
    "\n",
    "\n"
   ]
  },
  {
   "cell_type": "code",
   "execution_count": 29,
   "metadata": {
    "collapsed": false
   },
   "outputs": [
    {
     "data": {
      "text/plain": [
       "[2, 3, 7, None]"
      ]
     },
     "execution_count": 29,
     "metadata": {},
     "output_type": "execute_result"
    }
   ],
   "source": [
    "a_list = [2, 3, 7, None]\n",
    "a_list"
   ]
  },
  {
   "cell_type": "code",
   "execution_count": 30,
   "metadata": {
    "collapsed": false
   },
   "outputs": [
    {
     "data": {
      "text/plain": [
       "['apple', 'bananas', 'berries']"
      ]
     },
     "execution_count": 30,
     "metadata": {},
     "output_type": "execute_result"
    }
   ],
   "source": [
    "list2 = ['apple', 'bananas', 'berries']\n",
    "list2"
   ]
  },
  {
   "cell_type": "markdown",
   "metadata": {},
   "source": [
    "### Adding and Removing\n",
    "\n",
    "You can *add* things to lists"
   ]
  },
  {
   "cell_type": "code",
   "execution_count": 31,
   "metadata": {
    "collapsed": false
   },
   "outputs": [
    {
     "data": {
      "text/plain": [
       "[2, 3, 7, None, 'ITP']"
      ]
     },
     "execution_count": 31,
     "metadata": {},
     "output_type": "execute_result"
    }
   ],
   "source": [
    "a_list.append('ITP')\n",
    "a_list"
   ]
  },
  {
   "cell_type": "markdown",
   "metadata": {},
   "source": [
    "You can remove the elements from the end using pop()"
   ]
  },
  {
   "cell_type": "code",
   "execution_count": 32,
   "metadata": {
    "collapsed": false
   },
   "outputs": [
    {
     "data": {
      "text/plain": [
       "[2, 3, 7, None]"
      ]
     },
     "execution_count": 32,
     "metadata": {},
     "output_type": "execute_result"
    }
   ],
   "source": [
    "a_list.pop()\n",
    "a_list"
   ]
  },
  {
   "cell_type": "markdown",
   "metadata": {},
   "source": [
    "You can also use *remove()* which locates the first such value and removes it:\n"
   ]
  },
  {
   "cell_type": "code",
   "execution_count": 33,
   "metadata": {
    "collapsed": false
   },
   "outputs": [
    {
     "data": {
      "text/plain": [
       "[2, 3, 7]"
      ]
     },
     "execution_count": 33,
     "metadata": {},
     "output_type": "execute_result"
    }
   ],
   "source": [
    "a_list.remove(None)\n",
    "a_list"
   ]
  },
  {
   "cell_type": "markdown",
   "metadata": {},
   "source": [
    "## Slicing\n",
    "\n",
    "Slicing is a weird concept at first but will be very powerful specially when doing data analysis. \n",
    "You can basically select subsections of a list"
   ]
  },
  {
   "cell_type": "code",
   "execution_count": 34,
   "metadata": {
    "collapsed": false
   },
   "outputs": [
    {
     "data": {
      "text/plain": [
       "[1, 2, 3, 4]"
      ]
     },
     "execution_count": 34,
     "metadata": {},
     "output_type": "execute_result"
    }
   ],
   "source": [
    "seq = [0, 1, 2, 3, 4, 5, 6, 7, 8, 9]\n",
    "seq[1:5]"
   ]
  },
  {
   "cell_type": "code",
   "execution_count": 35,
   "metadata": {
    "collapsed": false
   },
   "outputs": [
    {
     "data": {
      "text/plain": [
       "[0, 1, 2, 3, 4]"
      ]
     },
     "execution_count": 35,
     "metadata": {},
     "output_type": "execute_result"
    }
   ],
   "source": [
    "seq[:5]"
   ]
  },
  {
   "cell_type": "code",
   "execution_count": 36,
   "metadata": {
    "collapsed": false
   },
   "outputs": [
    {
     "data": {
      "text/plain": [
       "[5, 6, 7, 8, 9]"
      ]
     },
     "execution_count": 36,
     "metadata": {},
     "output_type": "execute_result"
    }
   ],
   "source": [
    "seq[5:]"
   ]
  },
  {
   "cell_type": "code",
   "execution_count": 37,
   "metadata": {
    "collapsed": false
   },
   "outputs": [
    {
     "name": "stdout",
     "output_type": "stream",
     "text": [
      "0\n",
      "1\n",
      "2\n",
      "3\n",
      "4\n",
      "5\n",
      "6\n",
      "7\n",
      "8\n",
      "9\n"
     ]
    }
   ],
   "source": [
    "## Enumerating\n",
    "\n",
    "for num in seq:\n",
    "    print num"
   ]
  },
  {
   "cell_type": "markdown",
   "metadata": {},
   "source": [
    "Negative values also work to make a copy of the same list in reverse order:"
   ]
  },
  {
   "cell_type": "code",
   "execution_count": 38,
   "metadata": {
    "collapsed": false
   },
   "outputs": [
    {
     "data": {
      "text/plain": [
       "[9, 8, 7, 6, 5, 4, 3, 2, 1, 0]"
      ]
     },
     "execution_count": 38,
     "metadata": {},
     "output_type": "execute_result"
    }
   ],
   "source": [
    "seq[::-1]"
   ]
  },
  {
   "cell_type": "markdown",
   "metadata": {},
   "source": [
    "## Dictionaries\n",
    "\n",
    "\n",
    "dict is likely the most important built-in Python data structure. A more common name for it is hash map or associative array. \n",
    "\n",
    "\n",
    "let's compare them to lists. On list you can do this:"
   ]
  },
  {
   "cell_type": "code",
   "execution_count": 39,
   "metadata": {
    "collapsed": false
   },
   "outputs": [
    {
     "name": "stdout",
     "output_type": "stream",
     "text": [
      "b\n"
     ]
    }
   ],
   "source": [
    "things = ['a', 'b', 'c', 'd']\n",
    "print things[1]"
   ]
  },
  {
   "cell_type": "code",
   "execution_count": 40,
   "metadata": {
    "collapsed": false
   },
   "outputs": [
    {
     "data": {
      "text/plain": [
       "['a', 'z', 'c', 'd']"
      ]
     },
     "execution_count": 40,
     "metadata": {},
     "output_type": "execute_result"
    }
   ],
   "source": [
    "things[1] = 'z'\n",
    "things"
   ]
  },
  {
   "cell_type": "markdown",
   "metadata": {},
   "source": [
    "So you basically are using numbers to 'index' into the list. The really cool thing with dict is that you can use **anything** not just numbers.  Take a look:"
   ]
  },
  {
   "cell_type": "code",
   "execution_count": 39,
   "metadata": {
    "collapsed": false
   },
   "outputs": [
    {
     "name": "stdout",
     "output_type": "stream",
     "text": [
      "{'food': 'omnivorous', 'city': 'Brooklyn', 'name': 'Gus'}\n"
     ]
    }
   ],
   "source": [
    "# Note now it's curly brackets\n",
    "\n",
    "stuff = {'name': 'Gus', 'city': 'Brooklyn', 'food':'omnivorous'}\n",
    "print stuff"
   ]
  },
  {
   "cell_type": "code",
   "execution_count": 40,
   "metadata": {
    "collapsed": false
   },
   "outputs": [
    {
     "name": "stdout",
     "output_type": "stream",
     "text": [
      "Gus\n"
     ]
    }
   ],
   "source": [
    "print stuff['name']"
   ]
  },
  {
   "cell_type": "code",
   "execution_count": 41,
   "metadata": {
    "collapsed": false
   },
   "outputs": [
    {
     "name": "stdout",
     "output_type": "stream",
     "text": [
      "Brooklyn\n"
     ]
    }
   ],
   "source": [
    "print stuff['city']"
   ]
  },
  {
   "cell_type": "markdown",
   "metadata": {},
   "source": [
    "### Adding and Removing stuff"
   ]
  },
  {
   "cell_type": "code",
   "execution_count": 43,
   "metadata": {
    "collapsed": false
   },
   "outputs": [
    {
     "data": {
      "text/plain": [
       "{'city': 'Brooklyn', 'drink': 'wine', 'food': 'omnivorous', 'name': 'Gus'}"
      ]
     },
     "execution_count": 43,
     "metadata": {},
     "output_type": "execute_result"
    }
   ],
   "source": [
    "stuff['drink'] = 'wine'\n",
    "stuff"
   ]
  },
  {
   "cell_type": "code",
   "execution_count": 44,
   "metadata": {
    "collapsed": false
   },
   "outputs": [
    {
     "data": {
      "text/plain": [
       "{'drink': 'wine', 'food': 'omnivorous', 'name': 'Gus'}"
      ]
     },
     "execution_count": 44,
     "metadata": {},
     "output_type": "execute_result"
    }
   ],
   "source": [
    "del stuff['city']\n",
    "stuff"
   ]
  },
  {
   "cell_type": "markdown",
   "metadata": {},
   "source": [
    "### Checking is it contains some key"
   ]
  },
  {
   "cell_type": "code",
   "execution_count": 45,
   "metadata": {
    "collapsed": false
   },
   "outputs": [
    {
     "name": "stdout",
     "output_type": "stream",
     "text": [
      "wine\n"
     ]
    }
   ],
   "source": [
    "if 'drink' in stuff:\n",
    "    print stuff['drink']"
   ]
  },
  {
   "cell_type": "markdown",
   "metadata": {},
   "source": [
    "### Default values\n",
    "\n",
    "It's very common to have logic like:\n",
    "\n",
    "``\n",
    "if key in some_dict:\n",
    "    value = some_dict[key]\n",
    "else\n",
    "    value = default_value\n",
    "``\n",
    "\n",
    "\n",
    "So this can be written as:\n",
    "\n",
    "``\n",
    "value = some_dict.get(key, default_value)\n",
    "``\n",
    "\n",
    "\n"
   ]
  },
  {
   "cell_type": "code",
   "execution_count": null,
   "metadata": {
    "collapsed": true
   },
   "outputs": [],
   "source": [
    "## Where to go next ? \n",
    "\n",
    "I would recommend either:\n",
    "* Go through learnpytonthehardway\n",
    "* Go to github.com and read some python code. \n",
    "\n",
    "Good Luck !!"
   ]
  }
 ],
 "metadata": {
  "kernelspec": {
   "display_name": "Python 2",
   "language": "python",
   "name": "python2"
  },
  "language_info": {
   "codemirror_mode": {
    "name": "ipython",
    "version": 2
   },
   "file_extension": ".py",
   "mimetype": "text/x-python",
   "name": "python",
   "nbconvert_exporter": "python",
   "pygments_lexer": "ipython2",
   "version": "2.7.11"
  }
 },
 "nbformat": 4,
 "nbformat_minor": 0
}
